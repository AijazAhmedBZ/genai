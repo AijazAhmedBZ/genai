{
 "cells": [
  {
   "cell_type": "code",
   "execution_count": 1,
   "metadata": {},
   "outputs": [],
   "source": [
    "from openai import OpenAI\n",
    "from dotenv import load_dotenv, find_dotenv\n",
    "\n",
    "_ : bool = load_dotenv(find_dotenv()) # read local .env file\n",
    "\n",
    "client : OpenAI = OpenAI()"
   ]
  },
  {
   "cell_type": "code",
   "execution_count": 2,
   "metadata": {},
   "outputs": [
    {
     "name": "stdout",
     "output_type": "stream",
     "text": [
      "In the land of code, there dwells a clever trick,\n",
      "A dance of logic, both elegant and quick,\n",
      "It's called recursion, and its rhythm flows\n",
      "Through loops of functions, where the magic grows.\n",
      "\n",
      "Like a mirrored hall, it reflects its own step,\n",
      "Repeating patterns, with no need to fret,\n",
      "A function calls itself, again and again,\n",
      "Tackling problems with a recursive refrain.\n",
      "\n",
      "Like a Russian doll, nestled within its kin,\n",
      "Each call delves deeper, to solve and to win,\n",
      "Breaking down tasks into smaller parts,\n",
      "Until solutions emerge, from coding arts.\n",
      "\n",
      "But beware, my friend, for recursion's embrace\n",
      "Can lead to madness, if it sets the pace,\n",
      "Infinite loops, stack overflows,\n",
      "Too much recursion brings code to a close.\n",
      "\n",
      "So wield it with care, this programming tool,\n",
      "In the right hands, it becomes oh so cool,\n",
      "For recursion's beauty, in its cryptic dance,\n",
      "Unravels problems, with a graceful chance.\n"
     ]
    }
   ],
   "source": [
    "from openai.types.chat.chat_completion import ChatCompletion\n",
    "\n",
    "def chat_completion()->str:\n",
    "  completion : ChatCompletion = client.chat.completions.create(\n",
    "    model  = \"gpt-3.5-turbo-1106\",\n",
    "    messages= [\n",
    "      {\"role\": \"system\", \"content\": \"You are a poetic assistant, skilled in explaining complex programming concepts with creative flair.\"},\n",
    "      {\"role\": \"user\", \"content\": \"Compose a poem that explains the concept of recursion in programming.\"}\n",
    "    ]\n",
    "  )\n",
    "\n",
    "  return completion.choices[0].message.content\n",
    "\n",
    "print(chat_completion())"
   ]
  }
 ],
 "metadata": {
  "kernelspec": {
   "display_name": "genai_11",
   "language": "python",
   "name": "python3"
  },
  "language_info": {
   "codemirror_mode": {
    "name": "ipython",
    "version": 3
   },
   "file_extension": ".py",
   "mimetype": "text/x-python",
   "name": "python",
   "nbconvert_exporter": "python",
   "pygments_lexer": "ipython3",
   "version": "3.11.5"
  }
 },
 "nbformat": 4,
 "nbformat_minor": 2
}
